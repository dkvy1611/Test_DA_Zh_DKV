{
 "cells": [
  {
   "cell_type": "code",
   "execution_count": 1,
   "id": "94987fda-0b7b-44b9-af1c-c915739726ec",
   "metadata": {},
   "outputs": [
    {
     "name": "stdout",
     "output_type": "stream",
     "text": [
      "  InvoiceNo StockCode                          Description  Quantity  \\\n",
      "0    536365    85123A   WHITE HANGING HEART T-LIGHT HOLDER         6   \n",
      "1    536365     71053                  WHITE METAL LANTERN         6   \n",
      "2    536365    84406B       CREAM CUPID HEARTS COAT HANGER         8   \n",
      "3    536365    84029G  KNITTED UNION FLAG HOT WATER BOTTLE         6   \n",
      "4    536365    84029E       RED WOOLLY HOTTIE WHITE HEART.         6   \n",
      "\n",
      "        InvoiceDate  UnitPrice  CustomerID         Country  \n",
      "0  12/01/2010 08:26       2.55     17850.0  United Kingdom  \n",
      "1  12/01/2010 08:26       3.39     17850.0  United Kingdom  \n",
      "2  12/01/2010 08:26       2.75     17850.0  United Kingdom  \n",
      "3  12/01/2010 08:26       3.39     17850.0  United Kingdom  \n",
      "4  12/01/2010 08:26       3.39     17850.0  United Kingdom  \n"
     ]
    }
   ],
   "source": [
    "import pandas as pd\n",
    "\n",
    "data = pd.read_csv(\"C:/Users/DINH KHANH VY/Desktop/Personal Project/TEST DA/data.csv\", encoding='ISO-8859-1')\n",
    "\n",
    "print(data.head(5))"
   ]
  },
  {
   "cell_type": "code",
   "execution_count": 3,
   "id": "22cc2b0f-18dc-419c-8605-81313fea173a",
   "metadata": {},
   "outputs": [
    {
     "name": "stdout",
     "output_type": "stream",
     "text": [
      "<class 'pandas.core.frame.DataFrame'>\n",
      "RangeIndex: 541909 entries, 0 to 541908\n",
      "Data columns (total 8 columns):\n",
      " #   Column       Non-Null Count   Dtype  \n",
      "---  ------       --------------   -----  \n",
      " 0   InvoiceNo    541909 non-null  object \n",
      " 1   StockCode    541909 non-null  object \n",
      " 2   Description  540455 non-null  object \n",
      " 3   Quantity     541909 non-null  int64  \n",
      " 4   InvoiceDate  541909 non-null  object \n",
      " 5   UnitPrice    541909 non-null  float64\n",
      " 6   CustomerID   406829 non-null  float64\n",
      " 7   Country      541909 non-null  object \n",
      "dtypes: float64(2), int64(1), object(5)\n",
      "memory usage: 33.1+ MB\n"
     ]
    }
   ],
   "source": [
    "data.info()"
   ]
  },
  {
   "cell_type": "markdown",
   "id": "5b10851d-98fd-4b1a-96ea-d790abae3d0a",
   "metadata": {},
   "source": [
    "**Nhận xét**: Cột InvoiceDate đang chứa giá trị 12/13/2010 9:02 (tháng trước ngày sau), và không phải kiểu dữ liệu datetime\n",
    "\n",
    "**Cách xử lý**: Đổi kiểu dữ liệu sang datetime với định dạng 'MM/dd/yyyy HH:mm', sau đó đổi định dạng thành 'dd/MM/yyyy HH:mm:ss'"
   ]
  },
  {
   "cell_type": "code",
   "execution_count": 7,
   "id": "77db5593-ac5d-49c5-a6b8-e8fc6f7a8d24",
   "metadata": {},
   "outputs": [
    {
     "name": "stdout",
     "output_type": "stream",
     "text": [
      "0    01/12/2010 08:26:00\n",
      "1    01/12/2010 08:26:00\n",
      "2    01/12/2010 08:26:00\n",
      "3    01/12/2010 08:26:00\n",
      "4    01/12/2010 08:26:00\n",
      "Name: InvoiceDate, dtype: object\n"
     ]
    }
   ],
   "source": [
    "# Chuyển đổi cột InvoiceDate sang kiểu datetime với định dạng 'MM/dd/yyyy HH:mm'\n",
    "data['InvoiceDate'] = pd.to_datetime(data['InvoiceDate'], format='%m/%d/%Y %H:%M', errors='coerce')\n",
    "\n",
    "# Đổi định dạng thành 'dd/MM/yyyy HH:mm:ss'\n",
    "data['InvoiceDate'] = data['InvoiceDate'].dt.strftime('%d/%m/%Y %H:%M:%S')\n",
    "\n",
    "# Kiểm tra kết quả\n",
    "print(data['InvoiceDate'].head(5))"
   ]
  },
  {
   "cell_type": "code",
   "execution_count": 9,
   "id": "0db548a5-2ee6-4ebe-8e1c-86f0477d533b",
   "metadata": {},
   "outputs": [
    {
     "name": "stdout",
     "output_type": "stream",
     "text": [
      "0    17850\n",
      "1    17850\n",
      "2    17850\n",
      "3    17850\n",
      "4    17850\n",
      "Name: CustomerID, dtype: object\n"
     ]
    }
   ],
   "source": [
    "# Chuyển đổi cột CustomerID từ float thành chuỗi\n",
    "data['CustomerID'] = data['CustomerID'].astype('Int64').astype(str)\n",
    "\n",
    "# Kiểm tra kết quả\n",
    "print(data['CustomerID'].head(5))"
   ]
  },
  {
   "cell_type": "code",
   "execution_count": 13,
   "id": "14aafdbc-9c88-4cd2-906a-8efb4188362f",
   "metadata": {},
   "outputs": [
    {
     "name": "stdout",
     "output_type": "stream",
     "text": [
      "Ratio of missing CustomerID: 0.00%\n"
     ]
    }
   ],
   "source": [
    "# Tính tỉ lệ các giá trị null trong cột CustomerID\n",
    "null_count = data['CustomerID'].isnull().sum()\n",
    "total_count = data.shape[0]\n",
    "null_ratio = null_count / total_count\n",
    "\n",
    "# In tỉ lệ null\n",
    "print(f\"Ratio of missing CustomerID: {null_ratio:.2%}\")"
   ]
  },
  {
   "cell_type": "markdown",
   "id": "6b0ee4c6-6ee9-4f68-bdc3-8706e30ea61a",
   "metadata": {},
   "source": [
    "**Nhận xét**\n",
    "- Tỉ lệ CustomerId null khá cao (khoảng 25%)\n",
    "- Một số lí do:\n",
    "+ Lỗi hệ thống: Có thể do dữ liệu không được nhập đúng hoặc không đầy đủ.\n",
    "+ Khách hàng ẩn danh: Một số giao dịch có thể không yêu cầu đăng ký tài khoản (như khách hàng thanh toán nhanh không đăng nhập).\n",
    "+ Dữ liệu bị thiếu: Có thể bị mất trong quá trình thu thập hoặc xử lý dữ liệu."
   ]
  },
  {
   "cell_type": "code",
   "execution_count": 18,
   "id": "c0403df6-ddcd-4560-8e7e-5cf578d48edb",
   "metadata": {},
   "outputs": [
    {
     "name": "stdout",
     "output_type": "stream",
     "text": [
      "Count of InvoiceNo with Quantity <= 0: 5172\n",
      "Ratio of InvoiceNo with Quantity <= 0: 0.1997\n"
     ]
    }
   ],
   "source": [
    "# Đếm số lượng distinct InvoiceNo có Quantity <= 0\n",
    "count_quantity_invalid = data[data['Quantity'] <= 0]['InvoiceNo'].nunique()\n",
    "\n",
    "# Tính tỷ lệ\n",
    "total_invoice_count = data['InvoiceNo'].nunique()\n",
    "ratio_quantity_invalid = count_quantity_invalid / total_invoice_count\n",
    "print(f\"Count of InvoiceNo with Quantity <= 0: {count_quantity_invalid}\")\n",
    "print(f\"Ratio of InvoiceNo with Quantity <= 0: {ratio_quantity_invalid:.4f}\")"
   ]
  },
  {
   "cell_type": "code",
   "execution_count": 20,
   "id": "73664ccf-3c07-413f-9769-4f6c4e0c03bc",
   "metadata": {},
   "outputs": [
    {
     "name": "stdout",
     "output_type": "stream",
     "text": [
      "Count of InvoiceNo with UnitPrice <= 0: 2157\n",
      "Ratio of InvoiceNo with UnitPrice <= 0: 0.0833\n"
     ]
    }
   ],
   "source": [
    "# Đếm số lượng distinct InvoiceNo có UnitPrice <= 0\n",
    "count_unitprice_invalid = data[data['UnitPrice'] <= 0]['InvoiceNo'].nunique()\n",
    "\n",
    "# Tính tỷ lệ\n",
    "ratio_unitprice_invalid = count_unitprice_invalid / total_invoice_count\n",
    "\n",
    "print(f\"Count of InvoiceNo with UnitPrice <= 0: {count_unitprice_invalid}\")\n",
    "print(f\"Ratio of InvoiceNo with UnitPrice <= 0: {ratio_unitprice_invalid:.4f}\")"
   ]
  },
  {
   "cell_type": "code",
   "execution_count": 22,
   "id": "32f813ca-a48a-4a3b-826d-d3680d69c1dc",
   "metadata": {},
   "outputs": [
    {
     "name": "stdout",
     "output_type": "stream",
     "text": [
      "Data shape after cleaning: (530104, 8)\n"
     ]
    }
   ],
   "source": [
    "# Loại bỏ các dòng có Quantity <= 0 hoặc UnitPrice <= 0\n",
    "data = data[(data['Quantity'] > 0) & (data['UnitPrice'] > 0)]\n",
    "# Kiểm tra kết quả\n",
    "print(f\"Data shape after cleaning: {data.shape}\")"
   ]
  },
  {
   "cell_type": "code",
   "execution_count": 24,
   "id": "4655f2c2-90d6-4884-90eb-8eabc85c5ae4",
   "metadata": {},
   "outputs": [
    {
     "data": {
      "text/html": [
       "<div>\n",
       "<style scoped>\n",
       "    .dataframe tbody tr th:only-of-type {\n",
       "        vertical-align: middle;\n",
       "    }\n",
       "\n",
       "    .dataframe tbody tr th {\n",
       "        vertical-align: top;\n",
       "    }\n",
       "\n",
       "    .dataframe thead th {\n",
       "        text-align: right;\n",
       "    }\n",
       "</style>\n",
       "<table border=\"1\" class=\"dataframe\">\n",
       "  <thead>\n",
       "    <tr style=\"text-align: right;\">\n",
       "      <th></th>\n",
       "      <th>InvoiceNo</th>\n",
       "      <th>StockCode</th>\n",
       "      <th>Description</th>\n",
       "      <th>Quantity</th>\n",
       "      <th>InvoiceDate</th>\n",
       "      <th>UnitPrice</th>\n",
       "      <th>CustomerID</th>\n",
       "      <th>Country</th>\n",
       "    </tr>\n",
       "  </thead>\n",
       "  <tbody>\n",
       "    <tr>\n",
       "      <th>0</th>\n",
       "      <td>536365</td>\n",
       "      <td>85123A</td>\n",
       "      <td>WHITE HANGING HEART T-LIGHT HOLDER</td>\n",
       "      <td>6</td>\n",
       "      <td>01/12/2010 08:26:00</td>\n",
       "      <td>2.55</td>\n",
       "      <td>17850</td>\n",
       "      <td>United Kingdom</td>\n",
       "    </tr>\n",
       "    <tr>\n",
       "      <th>1</th>\n",
       "      <td>536365</td>\n",
       "      <td>71053</td>\n",
       "      <td>WHITE METAL LANTERN</td>\n",
       "      <td>6</td>\n",
       "      <td>01/12/2010 08:26:00</td>\n",
       "      <td>3.39</td>\n",
       "      <td>17850</td>\n",
       "      <td>United Kingdom</td>\n",
       "    </tr>\n",
       "    <tr>\n",
       "      <th>2</th>\n",
       "      <td>536365</td>\n",
       "      <td>84406B</td>\n",
       "      <td>CREAM CUPID HEARTS COAT HANGER</td>\n",
       "      <td>8</td>\n",
       "      <td>01/12/2010 08:26:00</td>\n",
       "      <td>2.75</td>\n",
       "      <td>17850</td>\n",
       "      <td>United Kingdom</td>\n",
       "    </tr>\n",
       "    <tr>\n",
       "      <th>3</th>\n",
       "      <td>536365</td>\n",
       "      <td>84029G</td>\n",
       "      <td>KNITTED UNION FLAG HOT WATER BOTTLE</td>\n",
       "      <td>6</td>\n",
       "      <td>01/12/2010 08:26:00</td>\n",
       "      <td>3.39</td>\n",
       "      <td>17850</td>\n",
       "      <td>United Kingdom</td>\n",
       "    </tr>\n",
       "    <tr>\n",
       "      <th>4</th>\n",
       "      <td>536365</td>\n",
       "      <td>84029E</td>\n",
       "      <td>RED WOOLLY HOTTIE WHITE HEART.</td>\n",
       "      <td>6</td>\n",
       "      <td>01/12/2010 08:26:00</td>\n",
       "      <td>3.39</td>\n",
       "      <td>17850</td>\n",
       "      <td>United Kingdom</td>\n",
       "    </tr>\n",
       "    <tr>\n",
       "      <th>5</th>\n",
       "      <td>536365</td>\n",
       "      <td>22752</td>\n",
       "      <td>SET 7 BABUSHKA NESTING BOXES</td>\n",
       "      <td>2</td>\n",
       "      <td>01/12/2010 08:26:00</td>\n",
       "      <td>7.65</td>\n",
       "      <td>17850</td>\n",
       "      <td>United Kingdom</td>\n",
       "    </tr>\n",
       "    <tr>\n",
       "      <th>6</th>\n",
       "      <td>536365</td>\n",
       "      <td>21730</td>\n",
       "      <td>GLASS STAR FROSTED T-LIGHT HOLDER</td>\n",
       "      <td>6</td>\n",
       "      <td>01/12/2010 08:26:00</td>\n",
       "      <td>4.25</td>\n",
       "      <td>17850</td>\n",
       "      <td>United Kingdom</td>\n",
       "    </tr>\n",
       "    <tr>\n",
       "      <th>7</th>\n",
       "      <td>536366</td>\n",
       "      <td>22633</td>\n",
       "      <td>HAND WARMER UNION JACK</td>\n",
       "      <td>6</td>\n",
       "      <td>01/12/2010 08:28:00</td>\n",
       "      <td>1.85</td>\n",
       "      <td>17850</td>\n",
       "      <td>United Kingdom</td>\n",
       "    </tr>\n",
       "    <tr>\n",
       "      <th>8</th>\n",
       "      <td>536366</td>\n",
       "      <td>22632</td>\n",
       "      <td>HAND WARMER RED POLKA DOT</td>\n",
       "      <td>6</td>\n",
       "      <td>01/12/2010 08:28:00</td>\n",
       "      <td>1.85</td>\n",
       "      <td>17850</td>\n",
       "      <td>United Kingdom</td>\n",
       "    </tr>\n",
       "    <tr>\n",
       "      <th>9</th>\n",
       "      <td>536367</td>\n",
       "      <td>84879</td>\n",
       "      <td>ASSORTED COLOUR BIRD ORNAMENT</td>\n",
       "      <td>32</td>\n",
       "      <td>01/12/2010 08:34:00</td>\n",
       "      <td>1.69</td>\n",
       "      <td>13047</td>\n",
       "      <td>United Kingdom</td>\n",
       "    </tr>\n",
       "  </tbody>\n",
       "</table>\n",
       "</div>"
      ],
      "text/plain": [
       "  InvoiceNo StockCode                          Description  Quantity  \\\n",
       "0    536365    85123A   WHITE HANGING HEART T-LIGHT HOLDER         6   \n",
       "1    536365     71053                  WHITE METAL LANTERN         6   \n",
       "2    536365    84406B       CREAM CUPID HEARTS COAT HANGER         8   \n",
       "3    536365    84029G  KNITTED UNION FLAG HOT WATER BOTTLE         6   \n",
       "4    536365    84029E       RED WOOLLY HOTTIE WHITE HEART.         6   \n",
       "5    536365     22752         SET 7 BABUSHKA NESTING BOXES         2   \n",
       "6    536365     21730    GLASS STAR FROSTED T-LIGHT HOLDER         6   \n",
       "7    536366     22633               HAND WARMER UNION JACK         6   \n",
       "8    536366     22632            HAND WARMER RED POLKA DOT         6   \n",
       "9    536367     84879        ASSORTED COLOUR BIRD ORNAMENT        32   \n",
       "\n",
       "           InvoiceDate  UnitPrice CustomerID         Country  \n",
       "0  01/12/2010 08:26:00       2.55      17850  United Kingdom  \n",
       "1  01/12/2010 08:26:00       3.39      17850  United Kingdom  \n",
       "2  01/12/2010 08:26:00       2.75      17850  United Kingdom  \n",
       "3  01/12/2010 08:26:00       3.39      17850  United Kingdom  \n",
       "4  01/12/2010 08:26:00       3.39      17850  United Kingdom  \n",
       "5  01/12/2010 08:26:00       7.65      17850  United Kingdom  \n",
       "6  01/12/2010 08:26:00       4.25      17850  United Kingdom  \n",
       "7  01/12/2010 08:28:00       1.85      17850  United Kingdom  \n",
       "8  01/12/2010 08:28:00       1.85      17850  United Kingdom  \n",
       "9  01/12/2010 08:34:00       1.69      13047  United Kingdom  "
      ]
     },
     "execution_count": 24,
     "metadata": {},
     "output_type": "execute_result"
    }
   ],
   "source": [
    "data.head(10)"
   ]
  },
  {
   "cell_type": "code",
   "execution_count": 26,
   "id": "d8d28ede-1cbc-4b42-90ac-d4efd4ecf02f",
   "metadata": {},
   "outputs": [
    {
     "name": "stdout",
     "output_type": "stream",
     "text": [
      "0     WHITE HANGING HEART T-LIGHT HOLDER\n",
      "1                    WHITE METAL LANTERN\n",
      "2         CREAM CUPID HEARTS COAT HANGER\n",
      "3    KNITTED UNION FLAG HOT WATER BOTTLE\n",
      "4          RED WOOLLY HOTTIE WHITE HEART\n",
      "Name: Description, dtype: object\n"
     ]
    }
   ],
   "source": [
    "# Thay thế tất cả giá trị \\\"RED WOOLLY HOTTIE WHITE HEART.\\\" thành \\\"RED WOOLLY HOTTIE WHITE HEART\\\" trong cột Description\n",
    "data['Description'] = data['Description'].replace(\"RED WOOLLY HOTTIE WHITE HEART.\", \"RED WOOLLY HOTTIE WHITE HEART\")\n",
    "\n",
    "# Kiểm tra kết quả\n",
    "print(data['Description'].head(5))"
   ]
  },
  {
   "cell_type": "code",
   "execution_count": 28,
   "id": "e58ad661-03c5-4821-9c8e-2ecd136e0053",
   "metadata": {},
   "outputs": [],
   "source": [
    "data.to_csv(\"C:/Users/DINH KHANH VY/Desktop/Personal Project/TEST DA/cleaned_data.csv\", index=False)\n",
    "\n",
    "#Import cleaned_data vào Power BI để tạo dashboard"
   ]
  }
 ],
 "metadata": {
  "kernelspec": {
   "display_name": "Python 3 (ipykernel)",
   "language": "python",
   "name": "python3"
  },
  "language_info": {
   "codemirror_mode": {
    "name": "ipython",
    "version": 3
   },
   "file_extension": ".py",
   "mimetype": "text/x-python",
   "name": "python",
   "nbconvert_exporter": "python",
   "pygments_lexer": "ipython3",
   "version": "3.12.7"
  }
 },
 "nbformat": 4,
 "nbformat_minor": 5
}
